{
  "nbformat": 4,
  "nbformat_minor": 0,
  "metadata": {
    "kernelspec": {
      "display_name": "Python 3",
      "language": "python",
      "name": "python3"
    },
    "language_info": {
      "codemirror_mode": {
        "name": "ipython",
        "version": 3
      },
      "file_extension": ".py",
      "mimetype": "text/x-python",
      "name": "python",
      "nbconvert_exporter": "python",
      "pygments_lexer": "ipython3",
      "version": "3.6.8"
    },
    "colab": {
      "name": "LAB01_DiegoE.ipynb",
      "provenance": [],
      "include_colab_link": true
    }
  },
  "cells": [
    {
      "cell_type": "markdown",
      "metadata": {
        "id": "view-in-github",
        "colab_type": "text"
      },
      "source": [
        "<a href=\"https://colab.research.google.com/github/diegoesteve/shared/blob/master/LAB01_DiegoE.ipynb\" target=\"_parent\"><img src=\"https://colab.research.google.com/assets/colab-badge.svg\" alt=\"Open In Colab\"/></a>"
      ]
    },
    {
      "cell_type": "markdown",
      "metadata": {
        "id": "PxgJUZtwKrGV",
        "colab_type": "text"
      },
      "source": [
        "<center><h1>Time series analysis</h1></center>\n",
        "<center><h2>LAB01: Forecasting Diego Esteve - Pablo Brisuela</h2></center>\n",
        "<br>"
      ]
    },
    {
      "cell_type": "code",
      "metadata": {
        "id": "mXLjypLbKrGW",
        "colab_type": "code",
        "outputId": "f37f33ea-1a9e-4e90-8944-192e852aece7",
        "colab": {
          "base_uri": "https://localhost:8080/",
          "height": 289
        }
      },
      "source": [
        "import sys\n",
        "IN_COLAB = 'google.colab' in sys.modules\n",
        "DATA_FILE = 'datasets/Telefonia_movil.csv'\n",
        "RAW_REPO = 'https://github.com/DiploDatos/AnalisisSeriesTemporales/raw/master/'\n",
        "if IN_COLAB:\n",
        "    !wget -cO plotting.py {RAW_REPO + 'plotting.py'}\n",
        "    DATA_FILE = RAW_REPO + DATA_FILE"
      ],
      "execution_count": 1,
      "outputs": [
        {
          "output_type": "stream",
          "text": [
            "--2019-10-02 00:24:22--  https://github.com/DiploDatos/AnalisisSeriesTemporales/raw/master/plotting.py\n",
            "Resolving github.com (github.com)... 140.82.114.4\n",
            "Connecting to github.com (github.com)|140.82.114.4|:443... connected.\n",
            "HTTP request sent, awaiting response... 302 Found\n",
            "Location: https://raw.githubusercontent.com/DiploDatos/AnalisisSeriesTemporales/master/plotting.py [following]\n",
            "--2019-10-02 00:24:22--  https://raw.githubusercontent.com/DiploDatos/AnalisisSeriesTemporales/master/plotting.py\n",
            "Resolving raw.githubusercontent.com (raw.githubusercontent.com)... 151.101.0.133, 151.101.64.133, 151.101.128.133, ...\n",
            "Connecting to raw.githubusercontent.com (raw.githubusercontent.com)|151.101.0.133|:443... connected.\n",
            "HTTP request sent, awaiting response... 200 OK\n",
            "Length: 3315 (3.2K) [text/plain]\n",
            "Saving to: ‘plotting.py’\n",
            "\n",
            "\rplotting.py           0%[                    ]       0  --.-KB/s               \rplotting.py         100%[===================>]   3.24K  --.-KB/s    in 0s      \n",
            "\n",
            "2019-10-02 00:24:22 (57.1 MB/s) - ‘plotting.py’ saved [3315/3315]\n",
            "\n"
          ],
          "name": "stdout"
        }
      ]
    },
    {
      "cell_type": "code",
      "metadata": {
        "id": "CW6LHxUYK8Ss",
        "colab_type": "code",
        "colab": {}
      },
      "source": [
        "# Packages\n",
        "import numpy as np\n",
        "from scipy import stats\n",
        "import pandas as pd\n",
        "import matplotlib.pyplot as plt\n",
        "import seaborn as sns\n",
        "import statsmodels.api as sm"
      ],
      "execution_count": 0,
      "outputs": []
    },
    {
      "cell_type": "code",
      "metadata": {
        "id": "yUPvDHx4KrGa",
        "colab_type": "code",
        "colab": {}
      },
      "source": [
        "# Plot settings\n",
        "sns.set_context('notebook') \n",
        "sns.set_style('ticks')\n",
        "red='#D62728'\n",
        "blue='#1F77B4'\n",
        "%matplotlib inline"
      ],
      "execution_count": 0,
      "outputs": []
    },
    {
      "cell_type": "code",
      "metadata": {
        "id": "vjPQxSrUKrGe",
        "colab_type": "code",
        "colab": {}
      },
      "source": [
        "plt.rcParams['figure.figsize'] = [16, 4]"
      ],
      "execution_count": 0,
      "outputs": []
    },
    {
      "cell_type": "code",
      "metadata": {
        "id": "AhCetlgSLpj-",
        "colab_type": "code",
        "outputId": "5f6932b6-50b8-4e3c-cbcf-36bcd13e3b78",
        "colab": {
          "base_uri": "https://localhost:8080/",
          "height": 34
        }
      },
      "source": [
        "print(DATA_FILE)"
      ],
      "execution_count": 5,
      "outputs": [
        {
          "output_type": "stream",
          "text": [
            "https://github.com/DiploDatos/AnalisisSeriesTemporales/raw/master/datasets/Telefonia_movil.csv\n"
          ],
          "name": "stdout"
        }
      ]
    },
    {
      "cell_type": "markdown",
      "metadata": {
        "id": "YnnctifYKrGh",
        "colab_type": "text"
      },
      "source": [
        "## Data: Consumo de telefonía celular\n",
        "\n",
        "Tenemos datos del consumo para líneas de celulares pre-pagos y post-pagos\n",
        "empezamos cargando los datos y convirtiendo el indice a períodos trimestrales, nos vamos a enfocar en los datos a partir del año 2013"
      ]
    },
    {
      "cell_type": "code",
      "metadata": {
        "id": "ndDjowk9KrGh",
        "colab_type": "code",
        "outputId": "8351c156-91a1-42eb-d105-a47b4ea280e3",
        "colab": {
          "base_uri": "https://localhost:8080/",
          "height": 204
        }
      },
      "source": [
        "#abrimos el archivo con datos y convertimos los campos \"Año\" y \"Trimetre\" a tipo str\n",
        "#data=pd.read_csv('Telefonia_movil.csv', index_col=None, parse_dates=True, dtype={'Año': str, 'Trimestre':str})\n",
        "data = pd.read_csv(DATA_FILE, index_col=None, parse_dates=True, dtype={'Año': str, 'Trimestre':str})\n",
        "data.head()\n",
        "#data.index=data.index.to_period(freq='Q') # converting the index to quarterly period instead of dates\n",
        "#data=data['1980':] # filtering the use data from Jan/1980 onwards"
      ],
      "execution_count": 6,
      "outputs": [
        {
          "output_type": "execute_result",
          "data": {
            "text/html": [
              "<div>\n",
              "<style scoped>\n",
              "    .dataframe tbody tr th:only-of-type {\n",
              "        vertical-align: middle;\n",
              "    }\n",
              "\n",
              "    .dataframe tbody tr th {\n",
              "        vertical-align: top;\n",
              "    }\n",
              "\n",
              "    .dataframe thead th {\n",
              "        text-align: right;\n",
              "    }\n",
              "</style>\n",
              "<table border=\"1\" class=\"dataframe\">\n",
              "  <thead>\n",
              "    <tr style=\"text-align: right;\">\n",
              "      <th></th>\n",
              "      <th>Año</th>\n",
              "      <th>Trimestre</th>\n",
              "      <th>Minutos pospago salientes (miles)</th>\n",
              "      <th>Minutos prepago salientes (miles)</th>\n",
              "      <th>Total de minutos salientes (miles)</th>\n",
              "      <th>Periodo</th>\n",
              "    </tr>\n",
              "  </thead>\n",
              "  <tbody>\n",
              "    <tr>\n",
              "      <th>0</th>\n",
              "      <td>2013</td>\n",
              "      <td>1</td>\n",
              "      <td>8.785.943</td>\n",
              "      <td>6582117</td>\n",
              "      <td>15368060</td>\n",
              "      <td>Ene-Mar 2013</td>\n",
              "    </tr>\n",
              "    <tr>\n",
              "      <th>1</th>\n",
              "      <td>2013</td>\n",
              "      <td>2</td>\n",
              "      <td>9.512.689</td>\n",
              "      <td>7108640</td>\n",
              "      <td>16621329</td>\n",
              "      <td>Abr-Jun 2013</td>\n",
              "    </tr>\n",
              "    <tr>\n",
              "      <th>2</th>\n",
              "      <td>2013</td>\n",
              "      <td>3</td>\n",
              "      <td>10.315.484</td>\n",
              "      <td>7335154</td>\n",
              "      <td>17650638</td>\n",
              "      <td>Jul-Sept 2013</td>\n",
              "    </tr>\n",
              "    <tr>\n",
              "      <th>3</th>\n",
              "      <td>2013</td>\n",
              "      <td>4</td>\n",
              "      <td>9.809.515</td>\n",
              "      <td>6250549</td>\n",
              "      <td>16060064</td>\n",
              "      <td>Oct-Dic 2013</td>\n",
              "    </tr>\n",
              "    <tr>\n",
              "      <th>4</th>\n",
              "      <td>2014</td>\n",
              "      <td>1</td>\n",
              "      <td>10.128.751</td>\n",
              "      <td>5799223</td>\n",
              "      <td>15927974</td>\n",
              "      <td>Ene-Mar 2013</td>\n",
              "    </tr>\n",
              "  </tbody>\n",
              "</table>\n",
              "</div>"
            ],
            "text/plain": [
              "    Año Trimestre  ... Total de minutos salientes (miles)        Periodo\n",
              "0  2013         1  ...                           15368060   Ene-Mar 2013\n",
              "1  2013         2  ...                           16621329   Abr-Jun 2013\n",
              "2  2013         3  ...                           17650638  Jul-Sept 2013\n",
              "3  2013         4  ...                           16060064   Oct-Dic 2013\n",
              "4  2014         1  ...                           15927974   Ene-Mar 2013\n",
              "\n",
              "[5 rows x 6 columns]"
            ]
          },
          "metadata": {
            "tags": []
          },
          "execution_count": 6
        }
      ]
    },
    {
      "cell_type": "code",
      "metadata": {
        "id": "uGXQxB7bKrGm",
        "colab_type": "code",
        "outputId": "63f77006-01d1-441b-bf34-b296b8e9f8c4",
        "colab": {
          "base_uri": "https://localhost:8080/",
          "height": 855
        }
      },
      "source": [
        "#armamos los datos trimestrales\n",
        "data['Quarter'] = data['Año']+\"Q\"+data['Trimestre']\n",
        "#asignamos el indice a \"Quarter\"\n",
        "data.index = pd.to_datetime(data['Quarter'])\n",
        "data.index  =data.index.to_period(freq='Q')\n",
        "data"
      ],
      "execution_count": 7,
      "outputs": [
        {
          "output_type": "execute_result",
          "data": {
            "text/html": [
              "<div>\n",
              "<style scoped>\n",
              "    .dataframe tbody tr th:only-of-type {\n",
              "        vertical-align: middle;\n",
              "    }\n",
              "\n",
              "    .dataframe tbody tr th {\n",
              "        vertical-align: top;\n",
              "    }\n",
              "\n",
              "    .dataframe thead th {\n",
              "        text-align: right;\n",
              "    }\n",
              "</style>\n",
              "<table border=\"1\" class=\"dataframe\">\n",
              "  <thead>\n",
              "    <tr style=\"text-align: right;\">\n",
              "      <th></th>\n",
              "      <th>Año</th>\n",
              "      <th>Trimestre</th>\n",
              "      <th>Minutos pospago salientes (miles)</th>\n",
              "      <th>Minutos prepago salientes (miles)</th>\n",
              "      <th>Total de minutos salientes (miles)</th>\n",
              "      <th>Periodo</th>\n",
              "      <th>Quarter</th>\n",
              "    </tr>\n",
              "    <tr>\n",
              "      <th>Quarter</th>\n",
              "      <th></th>\n",
              "      <th></th>\n",
              "      <th></th>\n",
              "      <th></th>\n",
              "      <th></th>\n",
              "      <th></th>\n",
              "      <th></th>\n",
              "    </tr>\n",
              "  </thead>\n",
              "  <tbody>\n",
              "    <tr>\n",
              "      <th>2013Q1</th>\n",
              "      <td>2013</td>\n",
              "      <td>1</td>\n",
              "      <td>8.785.943</td>\n",
              "      <td>6582117</td>\n",
              "      <td>15368060</td>\n",
              "      <td>Ene-Mar 2013</td>\n",
              "      <td>2013Q1</td>\n",
              "    </tr>\n",
              "    <tr>\n",
              "      <th>2013Q2</th>\n",
              "      <td>2013</td>\n",
              "      <td>2</td>\n",
              "      <td>9.512.689</td>\n",
              "      <td>7108640</td>\n",
              "      <td>16621329</td>\n",
              "      <td>Abr-Jun 2013</td>\n",
              "      <td>2013Q2</td>\n",
              "    </tr>\n",
              "    <tr>\n",
              "      <th>2013Q3</th>\n",
              "      <td>2013</td>\n",
              "      <td>3</td>\n",
              "      <td>10.315.484</td>\n",
              "      <td>7335154</td>\n",
              "      <td>17650638</td>\n",
              "      <td>Jul-Sept 2013</td>\n",
              "      <td>2013Q3</td>\n",
              "    </tr>\n",
              "    <tr>\n",
              "      <th>2013Q4</th>\n",
              "      <td>2013</td>\n",
              "      <td>4</td>\n",
              "      <td>9.809.515</td>\n",
              "      <td>6250549</td>\n",
              "      <td>16060064</td>\n",
              "      <td>Oct-Dic 2013</td>\n",
              "      <td>2013Q4</td>\n",
              "    </tr>\n",
              "    <tr>\n",
              "      <th>2014Q1</th>\n",
              "      <td>2014</td>\n",
              "      <td>1</td>\n",
              "      <td>10.128.751</td>\n",
              "      <td>5799223</td>\n",
              "      <td>15927974</td>\n",
              "      <td>Ene-Mar 2013</td>\n",
              "      <td>2014Q1</td>\n",
              "    </tr>\n",
              "    <tr>\n",
              "      <th>2014Q2</th>\n",
              "      <td>2014</td>\n",
              "      <td>2</td>\n",
              "      <td>10.821.463</td>\n",
              "      <td>6438071</td>\n",
              "      <td>17259534</td>\n",
              "      <td>Abr-Jun 2014</td>\n",
              "      <td>2014Q2</td>\n",
              "    </tr>\n",
              "    <tr>\n",
              "      <th>2014Q3</th>\n",
              "      <td>2014</td>\n",
              "      <td>3</td>\n",
              "      <td>11.524.344</td>\n",
              "      <td>7179152</td>\n",
              "      <td>18703495</td>\n",
              "      <td>Jul-Sept 2014</td>\n",
              "      <td>2014Q3</td>\n",
              "    </tr>\n",
              "    <tr>\n",
              "      <th>2014Q4</th>\n",
              "      <td>2014</td>\n",
              "      <td>4</td>\n",
              "      <td>11.997.330</td>\n",
              "      <td>7147630</td>\n",
              "      <td>19144961</td>\n",
              "      <td>Oct-Dic 2014</td>\n",
              "      <td>2014Q4</td>\n",
              "    </tr>\n",
              "    <tr>\n",
              "      <th>2015Q1</th>\n",
              "      <td>2015</td>\n",
              "      <td>1</td>\n",
              "      <td>10.273.637</td>\n",
              "      <td>6480172</td>\n",
              "      <td>16753809</td>\n",
              "      <td>Ene-Mar 2015</td>\n",
              "      <td>2015Q1</td>\n",
              "    </tr>\n",
              "    <tr>\n",
              "      <th>2015Q2</th>\n",
              "      <td>2015</td>\n",
              "      <td>2</td>\n",
              "      <td>11.226.576</td>\n",
              "      <td>6579819</td>\n",
              "      <td>17806395</td>\n",
              "      <td>Abr-Jun 2015</td>\n",
              "      <td>2015Q2</td>\n",
              "    </tr>\n",
              "    <tr>\n",
              "      <th>2015Q3</th>\n",
              "      <td>2015</td>\n",
              "      <td>3</td>\n",
              "      <td>11.766.711</td>\n",
              "      <td>7198826</td>\n",
              "      <td>18965537</td>\n",
              "      <td>Jul-Sept 2015</td>\n",
              "      <td>2015Q3</td>\n",
              "    </tr>\n",
              "    <tr>\n",
              "      <th>2015Q4</th>\n",
              "      <td>2015</td>\n",
              "      <td>4</td>\n",
              "      <td>11.905.073</td>\n",
              "      <td>7301039</td>\n",
              "      <td>19206111</td>\n",
              "      <td>Oct-Dic 2015</td>\n",
              "      <td>2015Q4</td>\n",
              "    </tr>\n",
              "    <tr>\n",
              "      <th>2016Q1</th>\n",
              "      <td>2016</td>\n",
              "      <td>1</td>\n",
              "      <td>11.230.991</td>\n",
              "      <td>6656647</td>\n",
              "      <td>17887638</td>\n",
              "      <td>Ene-Mar 2016</td>\n",
              "      <td>2016Q1</td>\n",
              "    </tr>\n",
              "    <tr>\n",
              "      <th>2016Q2</th>\n",
              "      <td>2016</td>\n",
              "      <td>2</td>\n",
              "      <td>11.493.027</td>\n",
              "      <td>6778732</td>\n",
              "      <td>18271759</td>\n",
              "      <td>Abr-Jun 2016</td>\n",
              "      <td>2016Q2</td>\n",
              "    </tr>\n",
              "    <tr>\n",
              "      <th>2016Q3</th>\n",
              "      <td>2016</td>\n",
              "      <td>3</td>\n",
              "      <td>11.923.391</td>\n",
              "      <td>7077838</td>\n",
              "      <td>19001229</td>\n",
              "      <td>Jul-Sept 2016</td>\n",
              "      <td>2016Q3</td>\n",
              "    </tr>\n",
              "    <tr>\n",
              "      <th>2016Q4</th>\n",
              "      <td>2016</td>\n",
              "      <td>4</td>\n",
              "      <td>15.960.765</td>\n",
              "      <td>6938892</td>\n",
              "      <td>22899656</td>\n",
              "      <td>Oct-Dic 2016</td>\n",
              "      <td>2016Q4</td>\n",
              "    </tr>\n",
              "    <tr>\n",
              "      <th>2017Q1</th>\n",
              "      <td>2017</td>\n",
              "      <td>1</td>\n",
              "      <td>14.630.269</td>\n",
              "      <td>6209983</td>\n",
              "      <td>20840252</td>\n",
              "      <td>Ene-Mar 2017</td>\n",
              "      <td>2017Q1</td>\n",
              "    </tr>\n",
              "    <tr>\n",
              "      <th>2017Q2</th>\n",
              "      <td>2017</td>\n",
              "      <td>2</td>\n",
              "      <td>15.315.167</td>\n",
              "      <td>6293563</td>\n",
              "      <td>21608730</td>\n",
              "      <td>Abr-Jun 2017</td>\n",
              "      <td>2017Q2</td>\n",
              "    </tr>\n",
              "    <tr>\n",
              "      <th>2017Q3</th>\n",
              "      <td>2017</td>\n",
              "      <td>3</td>\n",
              "      <td>15.106.275</td>\n",
              "      <td>6308373</td>\n",
              "      <td>21414647</td>\n",
              "      <td>Jul-Sept 2017</td>\n",
              "      <td>2017Q3</td>\n",
              "    </tr>\n",
              "    <tr>\n",
              "      <th>2017Q4</th>\n",
              "      <td>2017</td>\n",
              "      <td>4</td>\n",
              "      <td>14.164.552</td>\n",
              "      <td>5380710</td>\n",
              "      <td>19545262</td>\n",
              "      <td>Oct-Dic 2017</td>\n",
              "      <td>2017Q4</td>\n",
              "    </tr>\n",
              "    <tr>\n",
              "      <th>2018Q1</th>\n",
              "      <td>2018</td>\n",
              "      <td>1</td>\n",
              "      <td>13.423.580</td>\n",
              "      <td>5850985</td>\n",
              "      <td>19274565</td>\n",
              "      <td>Ene-Mar 2018</td>\n",
              "      <td>2018Q1</td>\n",
              "    </tr>\n",
              "    <tr>\n",
              "      <th>2018Q2</th>\n",
              "      <td>2018</td>\n",
              "      <td>2</td>\n",
              "      <td>14.240.217</td>\n",
              "      <td>6027374</td>\n",
              "      <td>20267591</td>\n",
              "      <td>Abr-Jun 2018</td>\n",
              "      <td>2018Q2</td>\n",
              "    </tr>\n",
              "    <tr>\n",
              "      <th>2018Q3</th>\n",
              "      <td>2018</td>\n",
              "      <td>3</td>\n",
              "      <td>14.574.305</td>\n",
              "      <td>6108477</td>\n",
              "      <td>20682782</td>\n",
              "      <td>Jul-Sept 2018</td>\n",
              "      <td>2018Q3</td>\n",
              "    </tr>\n",
              "    <tr>\n",
              "      <th>2018Q4</th>\n",
              "      <td>2018</td>\n",
              "      <td>4</td>\n",
              "      <td>14.915.060</td>\n",
              "      <td>6613685</td>\n",
              "      <td>21528745</td>\n",
              "      <td>Oct-Dic 2018</td>\n",
              "      <td>2018Q4</td>\n",
              "    </tr>\n",
              "    <tr>\n",
              "      <th>2019Q1</th>\n",
              "      <td>2019</td>\n",
              "      <td>1</td>\n",
              "      <td>13.937.271</td>\n",
              "      <td>6427084</td>\n",
              "      <td>20364355</td>\n",
              "      <td>Ene-Mar 2019</td>\n",
              "      <td>2019Q1</td>\n",
              "    </tr>\n",
              "  </tbody>\n",
              "</table>\n",
              "</div>"
            ],
            "text/plain": [
              "          Año Trimestre  ...        Periodo  Quarter\n",
              "Quarter                  ...                        \n",
              "2013Q1   2013         1  ...   Ene-Mar 2013   2013Q1\n",
              "2013Q2   2013         2  ...   Abr-Jun 2013   2013Q2\n",
              "2013Q3   2013         3  ...  Jul-Sept 2013   2013Q3\n",
              "2013Q4   2013         4  ...   Oct-Dic 2013   2013Q4\n",
              "2014Q1   2014         1  ...   Ene-Mar 2013   2014Q1\n",
              "2014Q2   2014         2  ...   Abr-Jun 2014   2014Q2\n",
              "2014Q3   2014         3  ...  Jul-Sept 2014   2014Q3\n",
              "2014Q4   2014         4  ...   Oct-Dic 2014   2014Q4\n",
              "2015Q1   2015         1  ...   Ene-Mar 2015   2015Q1\n",
              "2015Q2   2015         2  ...   Abr-Jun 2015   2015Q2\n",
              "2015Q3   2015         3  ...  Jul-Sept 2015   2015Q3\n",
              "2015Q4   2015         4  ...   Oct-Dic 2015   2015Q4\n",
              "2016Q1   2016         1  ...   Ene-Mar 2016   2016Q1\n",
              "2016Q2   2016         2  ...   Abr-Jun 2016   2016Q2\n",
              "2016Q3   2016         3  ...  Jul-Sept 2016   2016Q3\n",
              "2016Q4   2016         4  ...   Oct-Dic 2016   2016Q4\n",
              "2017Q1   2017         1  ...   Ene-Mar 2017   2017Q1\n",
              "2017Q2   2017         2  ...   Abr-Jun 2017   2017Q2\n",
              "2017Q3   2017         3  ...  Jul-Sept 2017   2017Q3\n",
              "2017Q4   2017         4  ...   Oct-Dic 2017   2017Q4\n",
              "2018Q1   2018         1  ...   Ene-Mar 2018   2018Q1\n",
              "2018Q2   2018         2  ...   Abr-Jun 2018   2018Q2\n",
              "2018Q3   2018         3  ...  Jul-Sept 2018   2018Q3\n",
              "2018Q4   2018         4  ...   Oct-Dic 2018   2018Q4\n",
              "2019Q1   2019         1  ...   Ene-Mar 2019   2019Q1\n",
              "\n",
              "[25 rows x 7 columns]"
            ]
          },
          "metadata": {
            "tags": []
          },
          "execution_count": 7
        }
      ]
    },
    {
      "cell_type": "code",
      "metadata": {
        "id": "TZqlW0VMKrGp",
        "colab_type": "code",
        "colab": {}
      },
      "source": [
        "y=data['Total de minutos salientes (miles)']"
      ],
      "execution_count": 0,
      "outputs": []
    },
    {
      "cell_type": "markdown",
      "metadata": {
        "id": "DCSdD-EiKrGt",
        "colab_type": "text"
      },
      "source": [
        "## Análisis y exploración de datos \n",
        "\n",
        "ploteamos los datos, podemos ver que el consumo es cada vez mayor a medida que pasa el tiempo, con un pico en el 4to trimestre del 2017"
      ]
    },
    {
      "cell_type": "code",
      "metadata": {
        "id": "1ivme4GcKrGu",
        "colab_type": "code",
        "outputId": "72eaa2da-4dbb-4662-c92e-49592d45e549",
        "colab": {
          "base_uri": "https://localhost:8080/",
          "height": 284
        }
      },
      "source": [
        "fig, ax= plt.subplots(figsize=(12,4))\n",
        "y.plot(color=red)\n",
        "ax.set_xlabel('')\n",
        "ax.set_ylabel('Total de minutos salientes (miles)')\n",
        "ax.set_title('Minutos Salientes de Telefonia Celular por Trimestre')\n",
        "ax.set_xticks([], minor=True) # I prefer to remove the minor ticks for a cleaner plot\n",
        "sns.despine()\n",
        "plt.show()"
      ],
      "execution_count": 9,
      "outputs": [
        {
          "output_type": "display_data",
          "data": {
            "image/png": "[encoded data removed]",
            "text/plain": [
              "<Figure size 864x288 with 1 Axes>"
            ]
          },
          "metadata": {
            "tags": []
          }
        }
      ]
    },
    {
      "cell_type": "code",
      "metadata": {
        "id": "G6igDV28KrGx",
        "colab_type": "code",
        "outputId": "a5923c26-0380-4f14-9540-21e0c176f17e",
        "colab": {
          "base_uri": "https://localhost:8080/",
          "height": 170
        }
      },
      "source": [
        "y.describe().round(2)"
      ],
      "execution_count": 10,
      "outputs": [
        {
          "output_type": "execute_result",
          "data": {
            "text/plain": [
              "count          25.00\n",
              "mean     18922204.72\n",
              "std       1982378.31\n",
              "min      15368060.00\n",
              "25%      17650638.00\n",
              "50%      19001229.00\n",
              "75%      20364355.00\n",
              "max      22899656.00\n",
              "Name: Total de minutos salientes (miles), dtype: float64"
            ]
          },
          "metadata": {
            "tags": []
          },
          "execution_count": 10
        }
      ]
    },
    {
      "cell_type": "markdown",
      "metadata": {
        "id": "HI07Qd9nKrG0",
        "colab_type": "text"
      },
      "source": [
        "## Random walk\n",
        "\n",
        "Vamos a usar el metodo random walk para generar predicciones\n",
        "\n",
        "Generamos predicciones para los próximos 4 trimestres. "
      ]
    },
    {
      "cell_type": "code",
      "metadata": {
        "id": "sApis-ZXKrG1",
        "colab_type": "code",
        "outputId": "49157993-5732-4cce-ba79-b413f6e3ab9e",
        "colab": {
          "base_uri": "https://localhost:8080/",
          "height": 102
        }
      },
      "source": [
        "#seteamos el \"horizonte\", periodos a estimar\n",
        "h = 4\n",
        "#armamos el set de datos teniendo en cuenta el indice\n",
        "test=pd.period_range(start=y.index[-1]+1, periods=h, freq='Q')\n",
        "\n",
        "pred=pd.Series(np.repeat(y.iloc[-1], h), index=test) \n",
        "pred"
      ],
      "execution_count": 0,
      "outputs": [
        {
          "output_type": "execute_result",
          "data": {
            "text/plain": [
              "2019Q2    20364355\n",
              "2019Q3    20364355\n",
              "2019Q4    20364355\n",
              "2020Q1    20364355\n",
              "Freq: Q-DEC, dtype: int64"
            ]
          },
          "metadata": {
            "tags": []
          },
          "execution_count": 13
        }
      ]
    },
    {
      "cell_type": "markdown",
      "metadata": {
        "id": "Q9wM-2qrKrG4",
        "colab_type": "text"
      },
      "source": [
        "EStimamos la desviación estándar"
      ]
    },
    {
      "cell_type": "code",
      "metadata": {
        "id": "IL_z68E4KrG5",
        "colab_type": "code",
        "outputId": "bdf4b06d-c0c1-4a25-b72c-63451c36f383",
        "colab": {
          "base_uri": "https://localhost:8080/",
          "height": 34
        }
      },
      "source": [
        "resid=y-y.shift(1) # the shift lags the series by one period\n",
        "sigma = resid.std()\n",
        "round(sigma,2)"
      ],
      "execution_count": 0,
      "outputs": [
        {
          "output_type": "execute_result",
          "data": {
            "text/plain": [
              "1409600.3"
            ]
          },
          "metadata": {
            "tags": []
          },
          "execution_count": 14
        }
      ]
    },
    {
      "cell_type": "code",
      "metadata": {
        "id": "aQGaLHG5KrG8",
        "colab_type": "code",
        "outputId": "8c68cc72-c8e0-40ca-f6b4-1bcaae68fa24",
        "colab": {
          "base_uri": "https://localhost:8080/",
          "height": 274
        }
      },
      "source": [
        "resid.plot.hist(bins=30);"
      ],
      "execution_count": 0,
      "outputs": [
        {
          "output_type": "display_data",
          "data": {
            "image/png": "[encoded data removed]",
            "text/plain": [
              "<Figure size 1152x288 with 1 Axes>"
            ]
          },
          "metadata": {
            "tags": []
          }
        }
      ]
    },
    {
      "cell_type": "code",
      "metadata": {
        "id": "meJuUFTqKrG_",
        "colab_type": "code",
        "outputId": "fbbfeac7-ec61-48b5-eeb5-562f18056071",
        "colab": {
          "base_uri": "https://localhost:8080/",
          "height": 34
        }
      },
      "source": [
        "np.arange(1,h+1)"
      ],
      "execution_count": 0,
      "outputs": [
        {
          "output_type": "execute_result",
          "data": {
            "text/plain": [
              "array([1, 2, 3, 4])"
            ]
          },
          "metadata": {
            "tags": []
          },
          "execution_count": 16
        }
      ]
    },
    {
      "cell_type": "code",
      "metadata": {
        "id": "cy3xQNojKrHC",
        "colab_type": "code",
        "outputId": "a784c935-0ac4-4d6b-8d15-854031d72401",
        "colab": {
          "base_uri": "https://localhost:8080/",
          "height": 173
        }
      },
      "source": [
        "intv = pd.concat([pred-stats.norm.ppf(0.975)*sigma*np.sqrt(np.arange(1,h+1)),pred+stats.norm.ppf(0.975)*sigma*np.sqrt(np.arange(1,h+1))], axis=1)\n",
        "intv.round(2)"
      ],
      "execution_count": 0,
      "outputs": [
        {
          "output_type": "execute_result",
          "data": {
            "text/html": [
              "<div>\n",
              "<style scoped>\n",
              "    .dataframe tbody tr th:only-of-type {\n",
              "        vertical-align: middle;\n",
              "    }\n",
              "\n",
              "    .dataframe tbody tr th {\n",
              "        vertical-align: top;\n",
              "    }\n",
              "\n",
              "    .dataframe thead th {\n",
              "        text-align: right;\n",
              "    }\n",
              "</style>\n",
              "<table border=\"1\" class=\"dataframe\">\n",
              "  <thead>\n",
              "    <tr style=\"text-align: right;\">\n",
              "      <th></th>\n",
              "      <th>0</th>\n",
              "      <th>1</th>\n",
              "    </tr>\n",
              "  </thead>\n",
              "  <tbody>\n",
              "    <tr>\n",
              "      <th>2019Q2</th>\n",
              "      <td>17601589.19</td>\n",
              "      <td>23127120.81</td>\n",
              "    </tr>\n",
              "    <tr>\n",
              "      <th>2019Q3</th>\n",
              "      <td>16457214.12</td>\n",
              "      <td>24271495.88</td>\n",
              "    </tr>\n",
              "    <tr>\n",
              "      <th>2019Q4</th>\n",
              "      <td>15579104.25</td>\n",
              "      <td>25149605.75</td>\n",
              "    </tr>\n",
              "    <tr>\n",
              "      <th>2020Q1</th>\n",
              "      <td>14838823.38</td>\n",
              "      <td>25889886.62</td>\n",
              "    </tr>\n",
              "  </tbody>\n",
              "</table>\n",
              "</div>"
            ],
            "text/plain": [
              "                  0            1\n",
              "2019Q2  17601589.19  23127120.81\n",
              "2019Q3  16457214.12  24271495.88\n",
              "2019Q4  15579104.25  25149605.75\n",
              "2020Q1  14838823.38  25889886.62"
            ]
          },
          "metadata": {
            "tags": []
          },
          "execution_count": 18
        }
      ]
    },
    {
      "cell_type": "code",
      "metadata": {
        "id": "8jiO-SBQKrHG",
        "colab_type": "code",
        "outputId": "6da03422-42f5-4105-dbe1-52d93227fef5",
        "colab": {
          "base_uri": "https://localhost:8080/",
          "height": 350
        }
      },
      "source": [
        "from plotting import fanchart\n",
        "point_pred = (intv[0]+intv[1])/2\n",
        "fig, ax = fanchart(y,point_pred,intv,intv,intv)\n",
        "plt.show()"
      ],
      "execution_count": 0,
      "outputs": [
        {
          "output_type": "display_data",
          "data": {
            "image/png": "[encoded data removed]",
            "text/plain": [
              "<Figure size 576x360 with 1 Axes>"
            ]
          },
          "metadata": {
            "tags": []
          }
        }
      ]
    },
    {
      "cell_type": "markdown",
      "metadata": {
        "id": "AzCL65k0KrHJ",
        "colab_type": "text"
      },
      "source": [
        "## Simple exponential smoothing\n"
      ]
    },
    {
      "cell_type": "code",
      "metadata": {
        "id": "anG3A-bYKrHK",
        "colab_type": "code",
        "outputId": "c08f1c9f-8dc4-46cb-dcbb-d84392fdd1fd",
        "colab": {
          "base_uri": "https://localhost:8080/",
          "height": 269
        }
      },
      "source": [
        "model_ses = sm.tsa.SimpleExpSmoothing(y).fit()\n",
        "fitted_ses = model_ses.fittedvalues\n",
        "model_ses.summary()"
      ],
      "execution_count": 0,
      "outputs": [
        {
          "output_type": "execute_result",
          "data": {
            "text/html": [
              "<table class=\"simpletable\">\n",
              "<caption>SimpleExpSmoothing Model Results</caption>\n",
              "<tr>\n",
              "  <th>Dep. Variable:</th>           <td>endog</td>       <th>  No. Observations:  </th>         <td>25</td>        \n",
              "</tr>\n",
              "<tr>\n",
              "  <th>Model:</th>            <td>SimpleExpSmoothing</td> <th>  SSE                </th> <td>43441867557448.141</td>\n",
              "</tr>\n",
              "<tr>\n",
              "  <th>Optimized:</th>               <td>True</td>        <th>  AIC                </th>       <td>708.589</td>     \n",
              "</tr>\n",
              "<tr>\n",
              "  <th>Trend:</th>                   <td>None</td>        <th>  BIC                </th>       <td>711.027</td>     \n",
              "</tr>\n",
              "<tr>\n",
              "  <th>Seasonal:</th>                <td>None</td>        <th>  AICC               </th>       <td>710.589</td>     \n",
              "</tr>\n",
              "<tr>\n",
              "  <th>Seasonal Periods:</th>        <td>None</td>        <th>  Date:              </th>  <td>Sat, 21 Sep 2019</td> \n",
              "</tr>\n",
              "<tr>\n",
              "  <th>Box-Cox:</th>                 <td>False</td>       <th>  Time:              </th>      <td>23:40:17</td>     \n",
              "</tr>\n",
              "<tr>\n",
              "  <th>Box-Cox Coeff.:</th>          <td>None</td>        <th>                     </th>          <td> </td>        \n",
              "</tr>\n",
              "</table>\n",
              "<table class=\"simpletable\">\n",
              "<tr>\n",
              "         <td></td>                 <th>coeff</th>                <th>code</th>               <th>optimized</th>     \n",
              "</tr>\n",
              "<tr>\n",
              "  <th>smoothing_level</th> <td>           0.5492677</td> <td>               alpha</td> <td>                True</td>\n",
              "</tr>\n",
              "<tr>\n",
              "  <th>initial_level</th>   <td>          1.5952e+07</td> <td>                 l.0</td> <td>                True</td>\n",
              "</tr>\n",
              "</table>"
            ],
            "text/plain": [
              "<class 'statsmodels.iolib.summary.Summary'>\n",
              "\"\"\"\n",
              "                       SimpleExpSmoothing Model Results                       \n",
              "==============================================================================\n",
              "Dep. Variable:                  endog   No. Observations:                   25\n",
              "Model:             SimpleExpSmoothing   SSE                 43441867557448.141\n",
              "Optimized:                       True   AIC                            708.589\n",
              "Trend:                           None   BIC                            711.027\n",
              "Seasonal:                        None   AICC                           710.589\n",
              "Seasonal Periods:                None   Date:                 Sat, 21 Sep 2019\n",
              "Box-Cox:                        False   Time:                         23:40:17\n",
              "Box-Cox Coeff.:                  None                                         \n",
              "==============================================================================\n",
              "                       coeff                 code              optimized      \n",
              "------------------------------------------------------------------------------\n",
              "smoothing_level            0.5492677                alpha                 True\n",
              "initial_level             1.5952e+07                  l.0                 True\n",
              "------------------------------------------------------------------------------\n",
              "\"\"\""
            ]
          },
          "metadata": {
            "tags": []
          },
          "execution_count": 25
        }
      ]
    },
    {
      "cell_type": "markdown",
      "metadata": {
        "id": "xwQySFXkKrHR",
        "colab_type": "text"
      },
      "source": [
        "Analizamos AIC, BIC y MSE."
      ]
    },
    {
      "cell_type": "code",
      "metadata": {
        "id": "WtFEZ27CKrHS",
        "colab_type": "code",
        "outputId": "95f96965-030e-4af3-c044-d00d116d3033",
        "colab": {
          "base_uri": "https://localhost:8080/",
          "height": 51
        }
      },
      "source": [
        "mse_ses = sm.tools.eval_measures.mse(y,fitted_ses)\n",
        "print(' In-sample fit:')\n",
        "print(' MSE               {0:.2f}'.format(mse_ses))"
      ],
      "execution_count": 0,
      "outputs": [
        {
          "output_type": "stream",
          "text": [
            " In-sample fit:\n",
            " MSE               1737674702297.93\n"
          ],
          "name": "stdout"
        }
      ]
    },
    {
      "cell_type": "markdown",
      "metadata": {
        "id": "OeHCDuEMKrHW",
        "colab_type": "text"
      },
      "source": [
        "Calculamos AIC y BIC"
      ]
    },
    {
      "cell_type": "code",
      "metadata": {
        "id": "z2MbQ3ZzKrHX",
        "colab_type": "code",
        "outputId": "6f536f19-0291-4400-c631-d8a283e3ebee",
        "colab": {
          "base_uri": "https://localhost:8080/",
          "height": 68
        }
      },
      "source": [
        "N = len(y)\n",
        "loglik_ses=-(N/2)*(1+np.log(2*np.pi))-(N/2)*np.log(mse_ses)\n",
        "aic_ses=-2*loglik_ses+2*3\n",
        "bic_ses=-2*loglik_ses+np.log(N)*3\n",
        "print(' Log-likelihood    %.3f' % (loglik_ses))\n",
        "print(' AIC               {0:.3f}'.format(aic_ses))\n",
        "print(' BIC               {0:.3f}'.format(bic_ses))"
      ],
      "execution_count": 0,
      "outputs": [
        {
          "output_type": "stream",
          "text": [
            " Log-likelihood    -387.768\n",
            " AIC               781.536\n",
            " BIC               785.193\n"
          ],
          "name": "stdout"
        }
      ]
    },
    {
      "cell_type": "markdown",
      "metadata": {
        "id": "TxeVuUUOKrHa",
        "colab_type": "text"
      },
      "source": [
        "Comparamos los datos \"suavizados\" con los originales"
      ]
    },
    {
      "cell_type": "code",
      "metadata": {
        "id": "C8sUvBj6KrHb",
        "colab_type": "code",
        "outputId": "9696aba0-7907-4693-e74d-808bfcfeb546",
        "colab": {
          "base_uri": "https://localhost:8080/",
          "height": 284
        }
      },
      "source": [
        "fig, ax= plt.subplots(figsize=(12,4))\n",
        "y.plot(color=red, label='Total de minutos salientes')\n",
        "fitted_ses.plot(color='black', label='Simple exponential smoothing fit', alpha=0.8)\n",
        "ax.set_xlabel('')\n",
        "ax.set_ylabel('Total de minutos salientes')\n",
        "ax.set_title('Consumo por trimestre')\n",
        "ax.set_xticks([], minor=True) \n",
        "plt.legend(loc='best')\n",
        "sns.despine()\n",
        "plt.show()"
      ],
      "execution_count": 0,
      "outputs": [
        {
          "output_type": "display_data",
          "data": {
            "image/png": "[encoded data removed]",
            "text/plain": [
              "<Figure size 864x288 with 1 Axes>"
            ]
          },
          "metadata": {
            "tags": []
          }
        }
      ]
    },
    {
      "cell_type": "markdown",
      "metadata": {
        "id": "Bx62EKYfKrHj",
        "colab_type": "text"
      },
      "source": [
        "## Model diagnostics\n",
        "\n",
        "Diagnósticos desiduales para el modelo suavizaso exponencial \n",
        "\n",
        "1. Residual plot.\n",
        "2. Residual autocorrelation function (ACF) plot.\n",
        "3. Residual distribution plots."
      ]
    },
    {
      "cell_type": "code",
      "metadata": {
        "id": "Asc_qqtGKrHn",
        "colab_type": "code",
        "colab": {}
      },
      "source": [
        "resid=y-fitted_ses "
      ],
      "execution_count": 0,
      "outputs": []
    },
    {
      "cell_type": "code",
      "metadata": {
        "id": "p-W53X-KKrHs",
        "colab_type": "code",
        "outputId": "56114929-6862-4a72-87cc-89c5a86f07aa",
        "colab": {
          "base_uri": "https://localhost:8080/",
          "height": 284
        }
      },
      "source": [
        "fig, ax= plt.subplots(figsize=(12,4))\n",
        "resid.plot(color=blue)\n",
        "ax.set_xlabel('')\n",
        "ax.set_xticks([], minor=True) \n",
        "ax.set_title('Residual plot')\n",
        "sns.despine()\n",
        "plt.show()"
      ],
      "execution_count": 0,
      "outputs": [
        {
          "output_type": "display_data",
          "data": {
            "image/png": "[encoded data removed]",
            "text/plain": [
              "<Figure size 864x288 with 1 Axes>"
            ]
          },
          "metadata": {
            "tags": []
          }
        }
      ]
    },
    {
      "cell_type": "markdown",
      "metadata": {
        "id": "DlC2IByzKrHv",
        "colab_type": "text"
      },
      "source": [
        "Next is the residual ACF plot aka correlogram"
      ]
    },
    {
      "cell_type": "code",
      "metadata": {
        "id": "Z7pfzIF9KrHw",
        "colab_type": "code",
        "outputId": "120cc51e-8b37-4901-ef72-e8f4b66d054b",
        "colab": {
          "base_uri": "https://localhost:8080/",
          "height": 393
        }
      },
      "source": [
        "fig, ax = plt.subplots(figsize=(12,6))\n",
        "sm.graphics.tsa.plot_acf(resid, lags=20, ax=ax)\n",
        "sns.despine()\n",
        "plt.show()"
      ],
      "execution_count": 0,
      "outputs": [
        {
          "output_type": "display_data",
          "data": {
            "image/png": "[encoded data removed]",
            "text/plain": [
              "<Figure size 864x432 with 1 Axes>"
            ]
          },
          "metadata": {
            "tags": []
          }
        }
      ]
    },
    {
      "cell_type": "code",
      "metadata": {
        "id": "zxsZ-sdvKrHy",
        "colab_type": "code",
        "outputId": "176f5976-48ab-4ff9-e87a-26a405b28986",
        "colab": {
          "base_uri": "https://localhost:8080/",
          "height": 279
        }
      },
      "source": [
        "def hist(series):\n",
        "    fig, ax= plt.subplots();#figsize=(9,6))\n",
        "\n",
        "    sns.distplot(series, ax=ax, hist_kws={'alpha': 0.6, 'edgecolor':'black', 'color': blue},  \n",
        "                 kde_kws={'color': 'black', 'alpha': 0.7})\n",
        "    sns.despine()\n",
        "    return fig, ax\n",
        "\n",
        "hist(resid)\n",
        "plt.show()"
      ],
      "execution_count": 0,
      "outputs": [
        {
          "output_type": "display_data",
          "data": {
            "image/png": "[encoded data removed]",
            "text/plain": [
              "<Figure size 1152x288 with 1 Axes>"
            ]
          },
          "metadata": {
            "tags": []
          }
        }
      ]
    },
    {
      "cell_type": "markdown",
      "metadata": {
        "id": "HzOGJF8HKrH1",
        "colab_type": "text"
      },
      "source": [
        "## Validación del modelo\n"
      ]
    },
    {
      "cell_type": "code",
      "metadata": {
        "id": "iBOdCFUfKrH2",
        "colab_type": "code",
        "outputId": "a360ecf1-5df1-47b6-becd-c046947558ae",
        "colab": {
          "base_uri": "https://localhost:8080/",
          "height": 34
        }
      },
      "source": [
        "(y.index.get_loc('2015Q1')-1)/len(y)"
      ],
      "execution_count": 0,
      "outputs": [
        {
          "output_type": "execute_result",
          "data": {
            "text/plain": [
              "0.28"
            ]
          },
          "metadata": {
            "tags": []
          },
          "execution_count": 33
        }
      ]
    },
    {
      "cell_type": "code",
      "metadata": {
        "id": "nphaPCjbKrH4",
        "colab_type": "code",
        "outputId": "9d0eb737-4e62-4b91-afed-03fc0cd63eb7",
        "colab": {
          "base_uri": "https://localhost:8080/",
          "height": 371
        }
      },
      "source": [
        "validation=y['2015Q1':].index \n",
        "start = y.index.get_loc('2015Q1') \n",
        "\n",
        "pred1 = []\n",
        "pred2 = []\n",
        "actual= []\n",
        "for i in range(start, len(y)):\n",
        "    \n",
        "    actual.append(y.iloc[i]) # actual value\n",
        "    \n",
        "    pred1.append(y.iloc[i-1]) # random walk forecast\n",
        "    \n",
        "    model = sm.tsa.SimpleExpSmoothing(y.iloc[:i]).fit() \n",
        "    pred2.append(model.forecast(1)[0]) # SES forecast\n",
        "\n",
        "columns=['RW', 'SES', 'Actual']\n",
        "results_sm = np.vstack([pred1,pred2,actual]).T\n",
        "results_sm = pd.DataFrame(results_sm, columns=columns, index=validation)\n",
        "results_sm.tail().round(2)"
      ],
      "execution_count": 0,
      "outputs": [
        {
          "output_type": "stream",
          "text": [
            "/usr/local/lib/python3.6/dist-packages/statsmodels/tsa/holtwinters.py:712: ConvergenceWarning: Optimization failed to converge. Check mle_retvals.\n",
            "  ConvergenceWarning)\n",
            "/usr/local/lib/python3.6/dist-packages/statsmodels/tsa/holtwinters.py:712: ConvergenceWarning: Optimization failed to converge. Check mle_retvals.\n",
            "  ConvergenceWarning)\n",
            "/usr/local/lib/python3.6/dist-packages/statsmodels/tsa/holtwinters.py:712: ConvergenceWarning: Optimization failed to converge. Check mle_retvals.\n",
            "  ConvergenceWarning)\n",
            "/usr/local/lib/python3.6/dist-packages/statsmodels/tsa/holtwinters.py:712: ConvergenceWarning: Optimization failed to converge. Check mle_retvals.\n",
            "  ConvergenceWarning)\n"
          ],
          "name": "stderr"
        },
        {
          "output_type": "execute_result",
          "data": {
            "text/html": [
              "<div>\n",
              "<style scoped>\n",
              "    .dataframe tbody tr th:only-of-type {\n",
              "        vertical-align: middle;\n",
              "    }\n",
              "\n",
              "    .dataframe tbody tr th {\n",
              "        vertical-align: top;\n",
              "    }\n",
              "\n",
              "    .dataframe thead th {\n",
              "        text-align: right;\n",
              "    }\n",
              "</style>\n",
              "<table border=\"1\" class=\"dataframe\">\n",
              "  <thead>\n",
              "    <tr style=\"text-align: right;\">\n",
              "      <th></th>\n",
              "      <th>RW</th>\n",
              "      <th>SES</th>\n",
              "      <th>Actual</th>\n",
              "    </tr>\n",
              "    <tr>\n",
              "      <th>Quarter</th>\n",
              "      <th></th>\n",
              "      <th></th>\n",
              "      <th></th>\n",
              "    </tr>\n",
              "  </thead>\n",
              "  <tbody>\n",
              "    <tr>\n",
              "      <th>2018Q1</th>\n",
              "      <td>19545262.0</td>\n",
              "      <td>20307923.78</td>\n",
              "      <td>19274565.0</td>\n",
              "    </tr>\n",
              "    <tr>\n",
              "      <th>2018Q2</th>\n",
              "      <td>19274565.0</td>\n",
              "      <td>19684128.78</td>\n",
              "      <td>20267591.0</td>\n",
              "    </tr>\n",
              "    <tr>\n",
              "      <th>2018Q3</th>\n",
              "      <td>20267591.0</td>\n",
              "      <td>20031446.43</td>\n",
              "      <td>20682782.0</td>\n",
              "    </tr>\n",
              "    <tr>\n",
              "      <th>2018Q4</th>\n",
              "      <td>20682782.0</td>\n",
              "      <td>20428033.99</td>\n",
              "      <td>21528745.0</td>\n",
              "    </tr>\n",
              "    <tr>\n",
              "      <th>2019Q1</th>\n",
              "      <td>21528745.0</td>\n",
              "      <td>21142430.14</td>\n",
              "      <td>20364355.0</td>\n",
              "    </tr>\n",
              "  </tbody>\n",
              "</table>\n",
              "</div>"
            ],
            "text/plain": [
              "                 RW          SES      Actual\n",
              "Quarter                                     \n",
              "2018Q1   19545262.0  20307923.78  19274565.0\n",
              "2018Q2   19274565.0  19684128.78  20267591.0\n",
              "2018Q3   20267591.0  20031446.43  20682782.0\n",
              "2018Q4   20682782.0  20428033.99  21528745.0\n",
              "2019Q1   21528745.0  21142430.14  20364355.0"
            ]
          },
          "metadata": {
            "tags": []
          },
          "execution_count": 34
        }
      ]
    },
    {
      "cell_type": "markdown",
      "metadata": {
        "id": "e5ZKHQ6yKrH7",
        "colab_type": "text"
      },
      "source": [
        "Random Walk parece dar la mejor predicción"
      ]
    },
    {
      "cell_type": "code",
      "metadata": {
        "id": "ag9i-BcnKrH7",
        "colab_type": "code",
        "outputId": "d50732df-e23e-426a-9087-1981d7bed865",
        "colab": {
          "base_uri": "https://localhost:8080/",
          "height": 111
        }
      },
      "source": [
        "from scipy import stats\n",
        "\n",
        "table = pd.DataFrame(0.0, index=results_sm.columns[:-1], columns=['RMSE','SE'])\n",
        "for i in range(2):\n",
        "    table.iloc[i,0] = sm.tools.eval_measures.rmse(results_sm.iloc[:,i], results_sm.iloc[:,-1])\n",
        "    table.iloc[i,1] = (results_sm.iloc[:,i] - results_sm.iloc[:,-1]).sem()\n",
        "table.round(2)"
      ],
      "execution_count": 0,
      "outputs": [
        {
          "output_type": "execute_result",
          "data": {
            "text/html": [
              "<div>\n",
              "<style scoped>\n",
              "    .dataframe tbody tr th:only-of-type {\n",
              "        vertical-align: middle;\n",
              "    }\n",
              "\n",
              "    .dataframe tbody tr th {\n",
              "        vertical-align: top;\n",
              "    }\n",
              "\n",
              "    .dataframe thead th {\n",
              "        text-align: right;\n",
              "    }\n",
              "</style>\n",
              "<table border=\"1\" class=\"dataframe\">\n",
              "  <thead>\n",
              "    <tr style=\"text-align: right;\">\n",
              "      <th></th>\n",
              "      <th>RMSE</th>\n",
              "      <th>SE</th>\n",
              "    </tr>\n",
              "  </thead>\n",
              "  <tbody>\n",
              "    <tr>\n",
              "      <th>RW</th>\n",
              "      <td>1485419.35</td>\n",
              "      <td>370921.62</td>\n",
              "    </tr>\n",
              "    <tr>\n",
              "      <th>SES</th>\n",
              "      <td>1555701.81</td>\n",
              "      <td>387086.91</td>\n",
              "    </tr>\n",
              "  </tbody>\n",
              "</table>\n",
              "</div>"
            ],
            "text/plain": [
              "           RMSE         SE\n",
              "RW   1485419.35  370921.62\n",
              "SES  1555701.81  387086.91"
            ]
          },
          "metadata": {
            "tags": []
          },
          "execution_count": 35
        }
      ]
    },
    {
      "cell_type": "markdown",
      "metadata": {
        "id": "YRb4QqhNKrH-",
        "colab_type": "text"
      },
      "source": [
        "## Predicción "
      ]
    },
    {
      "cell_type": "code",
      "metadata": {
        "id": "ivyGsdESKrH_",
        "colab_type": "code",
        "outputId": "e4d910bf-376b-4696-eef2-f404bf84128a",
        "colab": {
          "base_uri": "https://localhost:8080/",
          "height": 296
        }
      },
      "source": [
        "h=12\n",
        "w=h*10\n",
        "data = y\n",
        "model = sm.tsa.SimpleExpSmoothing\n",
        "pred_index = y.index[-1] + np.array(range(1,h+1))\n",
        "pred_rolling = pd.Series(0,index=pred_index)\n",
        "pred_expanding = pd.Series(0,index=pred_index)\n",
        "orig_exp = None\n",
        "orig_roll = None\n",
        "for i in range(0,h):\n",
        "    current_exp = pd.concat([data, pred_expanding.head(i)])\n",
        "    expanding = model(current_exp).fit()\n",
        "    pred_expanding.update(expanding.forecast(1))\n",
        "    current_roll = pd.concat([data, pred_rolling.head(i)])\n",
        "    rolling = model(current_roll.tail(w)).fit()\n",
        "    pred_rolling.update(rolling.forecast(1))\n",
        "    if i==0:\n",
        "        orig_fit = expanding.fittedvalues\n",
        "        orig_roll = rolling.fittedvalues\n",
        "ax = data[-w:].plot(color='red',figsize=(12,4))\n",
        "pd.concat([orig_fit[-w:],pred_expanding]).plot(ax=ax,color='blue');\n",
        "pd.concat([orig_roll[-w:],pred_rolling]).plot(ax=ax,color='green');"
      ],
      "execution_count": 0,
      "outputs": [
        {
          "output_type": "display_data",
          "data": {
            "image/png": "[encoded data removed]",
            "text/plain": [
              "<Figure size 864x288 with 1 Axes>"
            ]
          },
          "metadata": {
            "tags": []
          }
        }
      ]
    },
    {
      "cell_type": "code",
      "metadata": {
        "id": "merMY4cuKrIC",
        "colab_type": "code",
        "colab": {}
      },
      "source": [
        ""
      ],
      "execution_count": 0,
      "outputs": []
    }
  ]
}